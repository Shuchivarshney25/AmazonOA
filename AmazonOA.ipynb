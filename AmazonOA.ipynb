{
 "cells": [
  {
   "cell_type": "code",
   "execution_count": 3,
   "metadata": {},
   "outputs": [],
   "source": [
    "def solution(a, b, target):\n",
    "    a_dict, b_dict = {}, {}\n",
    "    for key, value in a:\n",
    "        a_dict[key] = value\n",
    "\n",
    "    for key, value in b:\n",
    "        b_dict[key] = value\n",
    "\n",
    "    best = target\n",
    "    best_tuple = list([])\n",
    "    \n",
    "    key_combs = [(x, y) for x in list(a_dict.keys()) for y in list(b_dict.keys())]\n",
    "\n",
    "    for (a_key, b_key) in key_combs:\n",
    "        if a_dict[a_key]+b_dict[b_key] == target:\n",
    "            if best == 0:\n",
    "                best_tuple.append([a_key, b_key])\n",
    "            else:\n",
    "                best_tuple = list([[a_key, b_key]],)\n",
    "            best = target-(a_dict[a_key]+b_dict[b_key])\n",
    "        elif a_dict[a_key]+b_dict[b_key] < target:\n",
    "            if target-(a_dict[a_key]+b_dict[b_key]) < best:\n",
    "                best = target-(a_dict[a_key]+b_dict[b_key])\n",
    "                best_tuple = ([a_key, b_key])\n",
    "\n",
    "    return best_tuple"
   ]
  },
  {
   "cell_type": "code",
   "execution_count": 4,
   "metadata": {},
   "outputs": [
    {
     "name": "stdout",
     "output_type": "stream",
     "text": [
      "[2, 3]\n"
     ]
    }
   ],
   "source": [
    "a = [[1, 20], [2, 15], [3, 5]]\n",
    "b = [[1, 80], [2, 11], [3, 1]]\n",
    "target = 17\n",
    "x=solution(a,b,target)\n",
    "print(x)"
   ]
  },
  {
   "cell_type": "markdown",
   "metadata": {},
   "source": [
    "TOPNcometitor"
   ]
  },
  {
   "cell_type": "code",
   "execution_count": 6,
   "metadata": {},
   "outputs": [],
   "source": [
    "def findNcompititors(numCompetitors,topNCompetitors,competitors,numReviews,reviews):\n",
    "    dt = {}\n",
    "    for i in competitors:\n",
    "        dt[i] = 0\n",
    "    for review in reviews:\n",
    "        temp = review.lower()\n",
    "        #print(temp)\n",
    "        for i in competitors:\n",
    "            if i in temp:\n",
    "                dt[i]+=1\n",
    "                break\n",
    "    sorted_map = sorted(dt, key=dt.get, reverse=True)\n",
    "    res = []\n",
    "    res = sorted(dt, key=lambda x: (-dt[x], x))\n",
    "    return res[:topNCompetitors]"
   ]
  },
  {
   "cell_type": "markdown",
   "metadata": {},
   "source": [
    "LargestItem Association"
   ]
  },
  {
   "cell_type": "code",
   "execution_count": 9,
   "metadata": {},
   "outputs": [
    {
     "ename": "SyntaxError",
     "evalue": "invalid syntax (<ipython-input-9-d24878ae1baa>, line 1)",
     "output_type": "error",
     "traceback": [
      "\u001b[1;36m  File \u001b[1;32m\"<ipython-input-9-d24878ae1baa>\"\u001b[1;36m, line \u001b[1;32m1\u001b[0m\n\u001b[1;33m    import defaultdict from Collections\u001b[0m\n\u001b[1;37m                          ^\u001b[0m\n\u001b[1;31mSyntaxError\u001b[0m\u001b[1;31m:\u001b[0m invalid syntax\n"
     ]
    }
   ],
   "source": [
    "\n",
    "def dfs(start, group, graph, visited):\n",
    "    group.append(start)\n",
    "    visited.add(start)\n",
    "    for asso in graph[start]:\n",
    "        if asso not in visited:\n",
    "            dfs(asso, group, graph, visited)\n",
    "\n",
    "def item_association(pairs):\n",
    "    graph = defaultdict(list)\n",
    "    for a, b in pairs: # building adjlist\n",
    "        graph[a].append(b)\n",
    "        graph[b].append(a)\n",
    "        \n",
    "    visited = set()\n",
    "    res = []\n",
    "    for k in graph.keys():\n",
    "        if k not in visited:\n",
    "            group = []\n",
    "            dfs(k, group, graph, visited)\n",
    "            if len(group) > len(res):\n",
    "                res = group\n",
    "    return res\n",
    "\n",
    "print (item_association([\n",
    "['Item1', 'Item2'],\n",
    "['Item3', 'Item4'],\n",
    "['Item4', 'Item5']\n",
    "]))"
   ]
  },
  {
   "cell_type": "markdown",
   "metadata": {},
   "source": [
    "Fresh Promotion"
   ]
  },
  {
   "cell_type": "code",
   "execution_count": 10,
   "metadata": {},
   "outputs": [
    {
     "ename": "IndentationError",
     "evalue": "unexpected indent (<ipython-input-10-8298706b8ecf>, line 2)",
     "output_type": "error",
     "traceback": [
      "\u001b[1;36m  File \u001b[1;32m\"<ipython-input-10-8298706b8ecf>\"\u001b[1;36m, line \u001b[1;32m2\u001b[0m\n\u001b[1;33m    while p_idx < len(promotions) and o_idx < len(orders):\u001b[0m\n\u001b[1;37m    ^\u001b[0m\n\u001b[1;31mIndentationError\u001b[0m\u001b[1;31m:\u001b[0m unexpected indent\n"
     ]
    }
   ],
   "source": [
    "# 1st loop until both index reach their size\n",
    "    while p_idx < len(promotions) and o_idx < len(orders):\n",
    "        # put the each promotion combination into a list\n",
    "        promo_combination = promotions[p_idx]\n",
    "        # initialize the above combination index\n",
    "        promo_idx = 0\n",
    "        # loop through the promo_combination and orders to see if\n",
    "        # it satisfies\n",
    "        while promo_idx < len(promo_combination) and o_idx < len(orders):\n",
    "            # now compare each combination with the order and also wild card anything\n",
    "            if promo_combination[promo_idx] == orders[o_idx] or promo_combination[promo_idx] == \"anything\":\n",
    "                # increment the promo_idx\n",
    "                promo_idx += 1\n",
    "            else:\n",
    "                # if not start the comparision from beginning\n",
    "                promo_idx = 0\n",
    "            # move to next order\n",
    "            o_idx += 1\n",
    "        if promo_idx != len(promo_combination):\n",
    "            return False\n",
    "        # move to next promotion combinations\n",
    "        p_idx += 1\n",
    "    # if the promotion index is less than total promotions\n",
    "    # return False\n",
    "    if p_idx < len(promotions):\n",
    "        return False\n",
    "    return True"
   ]
  },
  {
   "cell_type": "markdown",
   "metadata": {},
   "source": [
    "# favourite Genre"
   ]
  },
  {
   "cell_type": "code",
   "execution_count": 11,
   "metadata": {},
   "outputs": [],
   "source": [
    "def favor(userSongs, songGenres):\n",
    "    res = {}\n",
    "    d = {s: g for g in songGenres for s in songGenres[g]}\n",
    "    for name, songs in userSongs.items():\n",
    "        c = collections.Counter(d[s] for s in songs if s in d)\n",
    "        mxcnt = max(c.values() or [0])\n",
    "        res[name] = [g for g in c if c[g] == mxcnt]\n",
    "    return res"
   ]
  },
  {
   "cell_type": "markdown",
   "metadata": {},
   "source": [
    "# Treasure Island"
   ]
  },
  {
   "cell_type": "code",
   "execution_count": 12,
   "metadata": {},
   "outputs": [],
   "source": [
    "def solution(m):\n",
    "    if len(m) == 0 or len(m[0]) == 0:\n",
    "        return -1  # impossible\n",
    "\n",
    "    matrix = [row[:] for row in m]\n",
    "    nrow, ncol = len(matrix), len(matrix[0])\n",
    "\n",
    "    q = deque([((0, 0), 0)])  # ((x, y), step)\n",
    "    matrix[0][0] = \"D\"\n",
    "    while q:\n",
    "        (x, y), step = q.popleft()\n",
    "\n",
    "        for dx, dy in [[0, 1], [0, -1], [1, 0], [-1, 0]]:\n",
    "            if 0 <= x+dx < nrow and 0 <= y+dy < ncol:\n",
    "                if matrix[x+dx][y+dy] == \"X\":\n",
    "                    return step+1\n",
    "                elif matrix[x+dx][y+dy] == \"O\":\n",
    "                    # mark visited\n",
    "                    matrix[x + dx][y + dy] = \"D\"\n",
    "                    q.append(((x+dx, y+dy), step+1))\n",
    "\n",
    "    return -1"
   ]
  },
  {
   "cell_type": "markdown",
   "metadata": {},
   "source": [
    "# Robot Bounded In Circle"
   ]
  },
  {
   "cell_type": "code",
   "execution_count": 13,
   "metadata": {},
   "outputs": [],
   "source": [
    "\n",
    "class Solution(object):\n",
    "    def isRobotBounded(self, instructions):\n",
    "        \"\"\"\n",
    "        :type instructions: str\n",
    "        :rtype: bool\n",
    "        \"\"\"\n",
    "        di = (0,1)\n",
    "        x,y = 0,0\n",
    "        for instruction in instructions:\n",
    "            if instruction == 'G':\n",
    "                x,y = x+di[0],y+di[1]\n",
    "            elif instruction == 'L':\n",
    "                di = (-di[1],di[0])\n",
    "            else:\n",
    "                di = (di[1],-di[0])\n",
    "            \n",
    "        return (x==0 and y==0) or di!=(0,1)\n",
    "    "
   ]
  },
  {
   "cell_type": "markdown",
   "metadata": {},
   "source": [
    "# items in container"
   ]
  },
  {
   "cell_type": "code",
   "execution_count": 14,
   "metadata": {},
   "outputs": [
    {
     "name": "stdout",
     "output_type": "stream",
     "text": [
      "[2, 3]\n",
      "[2]\n",
      "[0, 6, 3]\n"
     ]
    }
   ],
   "source": [
    "class Solution:\n",
    "    def numOfItems(self, s, startindices, endindices):\n",
    "        result = []\n",
    "        for i in range(len(startindices)):\n",
    "            result.append(self.countStars(s, startindices[i], endindices[i]))\n",
    "        return result\n",
    "    def countStars(self, s, start, end) -> int:\n",
    "        counter = 0\n",
    "        if len(s) == 0: return 0\n",
    "        j = -1\n",
    "        for i in range(start - 1, end):\n",
    "            if s[i] == \"|\":\n",
    "                if j != -1:\n",
    "                    counter += i - j - 1\n",
    "                j = i\n",
    "        return counter\n",
    "# test cases\n",
    "s1 = Solution()\n",
    "print(s1.numOfItems('|**|*|*', [1, 1], [5, 6])) # [2, 3]\n",
    "print(s1.numOfItems('*|*|*|', [1], [6]))  # [2]\n",
    "print(s1.numOfItems('******|******||***||||||||**|8|', [2, 7, 8], [9, 14, 20]))  # [0,6,3]"
   ]
  },
  {
   "cell_type": "code",
   "execution_count": 15,
   "metadata": {},
   "outputs": [],
   "source": [
    "def _parse_string(s):\n",
    "    # building essentially a list of useful groups of |*...*|,\n",
    "    # so for example *|*|***|*|* becomes [(1,3),(3,7),(7,9)] \n",
    "    a = []\n",
    "    prev = -1\n",
    "    for i in range(len(s)):\n",
    "        if s[i] == '|':\n",
    "            if prev >= 0:\n",
    "                a.append((prev, i))\n",
    "            prev = i\n",
    "\n",
    "    return a\n",
    "\n",
    "def solution(s, starts, ends):\n",
    "    # we only parsing the string once\n",
    "    a = _parse_string(s)\n",
    "    ans = []\n",
    "    for i in range(len(starts)):\n",
    "        start, end = starts[i]-1, ends[i]-1\n",
    "        cnt = 0\n",
    "        # for every interval, check \n",
    "        # if we can include it or not\n",
    "        for e in a:\n",
    "            i_start, i_end = e\n",
    "            if i_start >= start and i_end <= end:\n",
    "                # if this compartment is fully inside \n",
    "                # our given interval, then include it\n",
    "                cnt += i_end - i_start - 1\n",
    "            elif start > i_end:\n",
    "                # some optimization, to break early\n",
    "                break\n",
    "        ans.append(cnt)\n",
    "    return ans"
   ]
  },
  {
   "cell_type": "markdown",
   "metadata": {},
   "source": [
    "# largest item Association"
   ]
  },
  {
   "cell_type": "code",
   "execution_count": 16,
   "metadata": {},
   "outputs": [
    {
     "ename": "NameError",
     "evalue": "name 'defaultdict' is not defined",
     "output_type": "error",
     "traceback": [
      "\u001b[1;31m---------------------------------------------------------------------------\u001b[0m",
      "\u001b[1;31mNameError\u001b[0m                                 Traceback (most recent call last)",
      "\u001b[1;32m<ipython-input-16-41e7659ef66a>\u001b[0m in \u001b[0;36m<module>\u001b[1;34m()\u001b[0m\n\u001b[0;32m     25\u001b[0m \u001b[1;33m[\u001b[0m\u001b[1;34m'Item1'\u001b[0m\u001b[1;33m,\u001b[0m \u001b[1;34m'Item2'\u001b[0m\u001b[1;33m]\u001b[0m\u001b[1;33m,\u001b[0m\u001b[1;33m\u001b[0m\u001b[0m\n\u001b[0;32m     26\u001b[0m \u001b[1;33m[\u001b[0m\u001b[1;34m'Item3'\u001b[0m\u001b[1;33m,\u001b[0m \u001b[1;34m'Item4'\u001b[0m\u001b[1;33m]\u001b[0m\u001b[1;33m,\u001b[0m\u001b[1;33m\u001b[0m\u001b[0m\n\u001b[1;32m---> 27\u001b[1;33m \u001b[1;33m[\u001b[0m\u001b[1;34m'Item4'\u001b[0m\u001b[1;33m,\u001b[0m \u001b[1;34m'Item5'\u001b[0m\u001b[1;33m]\u001b[0m\u001b[1;33m\u001b[0m\u001b[0m\n\u001b[0m\u001b[0;32m     28\u001b[0m ]))\n\u001b[0;32m     29\u001b[0m \u001b[1;33m\u001b[0m\u001b[0m\n",
      "\u001b[1;32m<ipython-input-16-41e7659ef66a>\u001b[0m in \u001b[0;36mitem_association\u001b[1;34m(pairs)\u001b[0m\n\u001b[0;32m      7\u001b[0m \u001b[1;33m\u001b[0m\u001b[0m\n\u001b[0;32m      8\u001b[0m \u001b[1;32mdef\u001b[0m \u001b[0mitem_association\u001b[0m\u001b[1;33m(\u001b[0m\u001b[0mpairs\u001b[0m\u001b[1;33m)\u001b[0m\u001b[1;33m:\u001b[0m\u001b[1;33m\u001b[0m\u001b[0m\n\u001b[1;32m----> 9\u001b[1;33m     \u001b[0mgraph\u001b[0m \u001b[1;33m=\u001b[0m \u001b[0mdefaultdict\u001b[0m\u001b[1;33m(\u001b[0m\u001b[0mlist\u001b[0m\u001b[1;33m)\u001b[0m\u001b[1;33m\u001b[0m\u001b[0m\n\u001b[0m\u001b[0;32m     10\u001b[0m     \u001b[1;32mfor\u001b[0m \u001b[0ma\u001b[0m\u001b[1;33m,\u001b[0m \u001b[0mb\u001b[0m \u001b[1;32min\u001b[0m \u001b[0mpairs\u001b[0m\u001b[1;33m:\u001b[0m \u001b[1;31m# building adjlist\u001b[0m\u001b[1;33m\u001b[0m\u001b[0m\n\u001b[0;32m     11\u001b[0m         \u001b[0mgraph\u001b[0m\u001b[1;33m[\u001b[0m\u001b[0ma\u001b[0m\u001b[1;33m]\u001b[0m\u001b[1;33m.\u001b[0m\u001b[0mappend\u001b[0m\u001b[1;33m(\u001b[0m\u001b[0mb\u001b[0m\u001b[1;33m)\u001b[0m\u001b[1;33m\u001b[0m\u001b[0m\n",
      "\u001b[1;31mNameError\u001b[0m: name 'defaultdict' is not defined"
     ]
    }
   ],
   "source": [
    "def dfs(start, group, graph, visited):\n",
    "    group.append(start)\n",
    "    visited.add(start)\n",
    "    for asso in graph[start]:\n",
    "        if asso not in visited:\n",
    "            dfs(asso, group, graph, visited)\n",
    "\n",
    "def item_association(pairs):\n",
    "    graph = defaultdict(list)\n",
    "    for a, b in pairs: # building adjlist\n",
    "        graph[a].append(b)\n",
    "        graph[b].append(a)\n",
    "        \n",
    "    visited = set()\n",
    "    res = []\n",
    "    for k in graph.keys():\n",
    "        if k not in visited:\n",
    "            group = []\n",
    "            dfs(k, group, graph, visited)\n",
    "            if len(group) > len(res):\n",
    "                res = group\n",
    "    return res\n",
    "\n",
    "print (item_association([\n",
    "['Item1', 'Item2'],\n",
    "['Item3', 'Item4'],\n",
    "['Item4', 'Item5']\n",
    "]))\n",
    "\n",
    "# might have to take care of lexigraphical order in case two lists have same size."
   ]
  },
  {
   "cell_type": "markdown",
   "metadata": {},
   "source": [
    "# shopkeeper Sale"
   ]
  },
  {
   "cell_type": "code",
   "execution_count": 17,
   "metadata": {},
   "outputs": [
    {
     "name": "stdout",
     "output_type": "stream",
     "text": [
      "[0]\n",
      "[0, 1]\n",
      "[2]\n",
      "[2, 3]\n",
      "[2, 3, 4]\n",
      "8\n",
      "[2, 5]\n"
     ]
    }
   ],
   "source": [
    "val =  [2, 3, 1, 2, 4, 2]\n",
    "n = len(val)\n",
    "\n",
    "stk = []\n",
    "res = [0 for i in range(n)]\n",
    "\n",
    "stk.append(0)\n",
    "\n",
    "for i in range(1, n):\n",
    "\n",
    "  print(stk)\n",
    "  if len(stk) <= 0:\n",
    "    stk.append(i)\n",
    "    continue\n",
    "  \n",
    "  while len(stk) > 0 and val[stk[-1]] >= val[i]:\n",
    "    res[stk[-1]] = val[i]\n",
    "    stk.pop()\n",
    "\n",
    "  stk.append(i)\n",
    "\n",
    "result = []\n",
    "profit = 0\n",
    "\n",
    "for i in range(n):\n",
    "\n",
    "  if res[i] == 0:\n",
    "    result.append(i)\n",
    "\n",
    "  profit += val[i] - res[i]\n",
    "\n",
    "print(profit)\n",
    "print(result)"
   ]
  },
  {
   "cell_type": "markdown",
   "metadata": {},
   "source": [
    "# Transaction Logs"
   ]
  },
  {
   "cell_type": "code",
   "execution_count": 1,
   "metadata": {},
   "outputs": [
    {
     "ename": "NameError",
     "evalue": "name 'arr' is not defined",
     "output_type": "error",
     "traceback": [
      "\u001b[1;31m---------------------------------------------------------------------------\u001b[0m",
      "\u001b[1;31mNameError\u001b[0m                                 Traceback (most recent call last)",
      "\u001b[1;32m<ipython-input-1-6c4ff2dfa223>\u001b[0m in \u001b[0;36m<module>\u001b[1;34m()\u001b[0m\n\u001b[0;32m      2\u001b[0m \u001b[0mres\u001b[0m \u001b[1;33m=\u001b[0m \u001b[1;33m[\u001b[0m\u001b[1;33m]\u001b[0m\u001b[1;33m\u001b[0m\u001b[0m\n\u001b[0;32m      3\u001b[0m \u001b[0mdict\u001b[0m \u001b[1;33m=\u001b[0m \u001b[0mcollections\u001b[0m\u001b[1;33m.\u001b[0m\u001b[0mdefaultdict\u001b[0m\u001b[1;33m(\u001b[0m\u001b[0mint\u001b[0m\u001b[1;33m)\u001b[0m\u001b[1;33m\u001b[0m\u001b[0m\n\u001b[1;32m----> 4\u001b[1;33m \u001b[1;32mfor\u001b[0m \u001b[0meach_rows\u001b[0m \u001b[1;32min\u001b[0m \u001b[0marr\u001b[0m\u001b[1;33m:\u001b[0m\u001b[1;33m\u001b[0m\u001b[0m\n\u001b[0m\u001b[0;32m      5\u001b[0m     \u001b[0mrow\u001b[0m \u001b[1;33m=\u001b[0m \u001b[1;34m''\u001b[0m\u001b[1;33m.\u001b[0m\u001b[0mjoin\u001b[0m\u001b[1;33m(\u001b[0m\u001b[0meach_rows\u001b[0m\u001b[1;33m)\u001b[0m\u001b[1;33m\u001b[0m\u001b[0m\n\u001b[0;32m      6\u001b[0m     \u001b[0mtemp\u001b[0m \u001b[1;33m=\u001b[0m \u001b[0mrow\u001b[0m\u001b[1;33m.\u001b[0m\u001b[0msplit\u001b[0m\u001b[1;33m(\u001b[0m\u001b[1;33m)\u001b[0m\u001b[1;33m\u001b[0m\u001b[0m\n",
      "\u001b[1;31mNameError\u001b[0m: name 'arr' is not defined"
     ]
    }
   ],
   "source": [
    "import collections  \n",
    "res = []\n",
    "dict = collections.defaultdict(int)\n",
    "for each_rows in arr:\n",
    "    row = ''.join(each_rows)\n",
    "    temp = row.split()\n",
    "    if temp[0] != temp[1]:\n",
    "        dict[temp[1]] += 1\n",
    "    dict[temp[0]] += 1\n",
    "\n",
    "for key, val in dict.items():\n",
    "    if val >= threshold:\n",
    "        res.append(key)\n",
    "return res"
   ]
  },
  {
   "cell_type": "markdown",
   "metadata": {},
   "source": [
    "# Optimal utilization"
   ]
  },
  {
   "cell_type": "code",
   "execution_count": 19,
   "metadata": {},
   "outputs": [],
   "source": [
    "class Solution:\n",
    "    def findPairs(self, a, b, target):\n",
    "        a.sort(key=lambda x: x[1])\n",
    "        b.sort(key=lambda x: x[1])\n",
    "        l, r = 0, len(b) - 1\n",
    "        ans = []\n",
    "        curDiff = float('inf')\n",
    "        while l < len(a) and r >= 0:\n",
    "            id1, i = a[l]\n",
    "            id2, j = b[r]\n",
    "            if (target - i - j == curDiff):\n",
    "                ans.append([id1, id2])\n",
    "            elif (i + j <= target and target - i - j < curDiff):\n",
    "                ans.clear()\n",
    "                ans.append([id1, id2])\n",
    "                curDiff = target - i - j\n",
    "            if (target > i + j):\n",
    "                l += 1\n",
    "            else:\n",
    "                r -= 1\n",
    "        return ans"
   ]
  },
  {
   "cell_type": "code",
   "execution_count": 20,
   "metadata": {},
   "outputs": [],
   "source": [
    "import collections\n",
    "import itertools\n",
    "from typing import List\n",
    "\n",
    "def optional_utilization(a: List[List[int]], b: List[List[int]], target: int) -> List[List[int]]:\n",
    "    a_dict = collections.defaultdict(list)\n",
    "    for e in a:\n",
    "        id, value = e\n",
    "        a_dict[value].append(id)\n",
    "\n",
    "    b_dict = collections.defaultdict(list)\n",
    "    for e in b:\n",
    "        id, value = e\n",
    "        b_dict[value].append(id)\n",
    "\n",
    "    a_values = sorted(list(a_dict.keys()))\n",
    "    b_values = sorted(list(b_dict.keys()))\n",
    "\n",
    "    pa, pb = 0, len(b_values) - 1\n",
    "    sum_dict = collections.defaultdict(list)\n",
    "    max_sum = 0\n",
    "    while pa < len(a_values) and pb >= 0:\n",
    "        s = a_values[pa] + b_values[pb]\n",
    "        if s <= target:\n",
    "            if s >= max_sum:\n",
    "                max_sum = s\n",
    "                sum_dict[s].append([a_values[pa], b_values[pb]])\n",
    "\n",
    "            pa += 1\n",
    "        else:\n",
    "            pb -= 1\n",
    "\n",
    "    ans = []\n",
    "    for pair in sum_dict[max_sum]:\n",
    "        a_indexes = a_dict[pair[0]]\n",
    "        b_indexes = b_dict[pair[1]]\n",
    "\n",
    "        ans += list(itertools.product(a_indexes, b_indexes))\n",
    "\n",
    "    return ans"
   ]
  },
  {
   "cell_type": "markdown",
   "metadata": {},
   "source": [
    "# Partition Labels"
   ]
  },
  {
   "cell_type": "code",
   "execution_count": 21,
   "metadata": {},
   "outputs": [],
   "source": [
    "def partition_labels(S):\n",
    "\n",
    "\trightmost = {c:i for i, c in enumerate(S)}\n",
    "\tleft, right = 0, 0\n",
    "\n",
    "\tresult = []\n",
    "\tfor i, letter in enumerate(S):\n",
    "\n",
    "\t\tright = max(right,rightmost[letter])\n",
    "\t\n",
    "\t\tif i == right:\n",
    "\t\t\tresult += [right-left + 1]\n",
    "\t\t\tleft = i+1\n",
    "\n",
    "\treturn result"
   ]
  },
  {
   "cell_type": "markdown",
   "metadata": {},
   "source": [
    "# topk k frequent words"
   ]
  },
  {
   "cell_type": "code",
   "execution_count": 22,
   "metadata": {},
   "outputs": [],
   "source": [
    "class Solution:\n",
    "    def partitionLabels(self, S):\n",
    "        ends = {c: i for i, c in enumerate(S)}        \n",
    "        curr, out = 0, [0]\n",
    "        \n",
    "        while curr < len(S):\n",
    "            last = ends[S[curr]]\n",
    "            while curr <= last:\n",
    "                symb = S[curr]\n",
    "                last = max(last, ends[symb])\n",
    "                curr += 1\n",
    "            out.append(curr)\n",
    "        \n",
    "        return [out[i]-out[i-1] for i in range(1, len(out))]"
   ]
  },
  {
   "cell_type": "code",
   "execution_count": null,
   "metadata": {},
   "outputs": [],
   "source": []
  }
 ],
 "metadata": {
  "kernelspec": {
   "display_name": "Python 3",
   "language": "python",
   "name": "python3"
  },
  "language_info": {
   "codemirror_mode": {
    "name": "ipython",
    "version": 3
   },
   "file_extension": ".py",
   "mimetype": "text/x-python",
   "name": "python",
   "nbconvert_exporter": "python",
   "pygments_lexer": "ipython3",
   "version": "3.6.5"
  }
 },
 "nbformat": 4,
 "nbformat_minor": 2
}
